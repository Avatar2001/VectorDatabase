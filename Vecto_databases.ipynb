{
  "nbformat": 4,
  "nbformat_minor": 0,
  "metadata": {
    "colab": {
      "provenance": [],
      "gpuType": "T4"
    },
    "kernelspec": {
      "name": "python3",
      "display_name": "Python 3"
    },
    "language_info": {
      "name": "python"
    },
    "widgets": {
      "application/vnd.jupyter.widget-state+json": {
        "556575b1eaa54a59b04338cfc9c89af4": {
          "model_module": "@jupyter-widgets/controls",
          "model_name": "HBoxModel",
          "model_module_version": "1.5.0",
          "state": {
            "_dom_classes": [],
            "_model_module": "@jupyter-widgets/controls",
            "_model_module_version": "1.5.0",
            "_model_name": "HBoxModel",
            "_view_count": null,
            "_view_module": "@jupyter-widgets/controls",
            "_view_module_version": "1.5.0",
            "_view_name": "HBoxView",
            "box_style": "",
            "children": [
              "IPY_MODEL_88ab2ad26246465e81d3b6227497feb8",
              "IPY_MODEL_d8e6c01159f94d12a2dcedb1ab3cc8e3",
              "IPY_MODEL_df28a73972f14e08b41188ee70f481e8"
            ],
            "layout": "IPY_MODEL_241ca7be1da143c2ae9d9e8eea150b18"
          }
        },
        "88ab2ad26246465e81d3b6227497feb8": {
          "model_module": "@jupyter-widgets/controls",
          "model_name": "HTMLModel",
          "model_module_version": "1.5.0",
          "state": {
            "_dom_classes": [],
            "_model_module": "@jupyter-widgets/controls",
            "_model_module_version": "1.5.0",
            "_model_name": "HTMLModel",
            "_view_count": null,
            "_view_module": "@jupyter-widgets/controls",
            "_view_module_version": "1.5.0",
            "_view_name": "HTMLView",
            "description": "",
            "description_tooltip": null,
            "layout": "IPY_MODEL_645d7452584247f69a0b389bcea1f5db",
            "placeholder": "​",
            "style": "IPY_MODEL_f42d672429784db9adbbba841fee0261",
            "value": "Batches: 100%"
          }
        },
        "d8e6c01159f94d12a2dcedb1ab3cc8e3": {
          "model_module": "@jupyter-widgets/controls",
          "model_name": "FloatProgressModel",
          "model_module_version": "1.5.0",
          "state": {
            "_dom_classes": [],
            "_model_module": "@jupyter-widgets/controls",
            "_model_module_version": "1.5.0",
            "_model_name": "FloatProgressModel",
            "_view_count": null,
            "_view_module": "@jupyter-widgets/controls",
            "_view_module_version": "1.5.0",
            "_view_name": "ProgressView",
            "bar_style": "success",
            "description": "",
            "description_tooltip": null,
            "layout": "IPY_MODEL_9211f52c291d489fbfea0eeb06cfde37",
            "max": 127,
            "min": 0,
            "orientation": "horizontal",
            "style": "IPY_MODEL_b3555c9a8ad946f0a70d200ac4661637",
            "value": 127
          }
        },
        "df28a73972f14e08b41188ee70f481e8": {
          "model_module": "@jupyter-widgets/controls",
          "model_name": "HTMLModel",
          "model_module_version": "1.5.0",
          "state": {
            "_dom_classes": [],
            "_model_module": "@jupyter-widgets/controls",
            "_model_module_version": "1.5.0",
            "_model_name": "HTMLModel",
            "_view_count": null,
            "_view_module": "@jupyter-widgets/controls",
            "_view_module_version": "1.5.0",
            "_view_name": "HTMLView",
            "description": "",
            "description_tooltip": null,
            "layout": "IPY_MODEL_d8e09ce8ee63470fa61053da5c3ec783",
            "placeholder": "​",
            "style": "IPY_MODEL_73077cff19374c678ffc9692af308549",
            "value": " 127/127 [00:10&lt;00:00, 22.60it/s]"
          }
        },
        "241ca7be1da143c2ae9d9e8eea150b18": {
          "model_module": "@jupyter-widgets/base",
          "model_name": "LayoutModel",
          "model_module_version": "1.2.0",
          "state": {
            "_model_module": "@jupyter-widgets/base",
            "_model_module_version": "1.2.0",
            "_model_name": "LayoutModel",
            "_view_count": null,
            "_view_module": "@jupyter-widgets/base",
            "_view_module_version": "1.2.0",
            "_view_name": "LayoutView",
            "align_content": null,
            "align_items": null,
            "align_self": null,
            "border": null,
            "bottom": null,
            "display": null,
            "flex": null,
            "flex_flow": null,
            "grid_area": null,
            "grid_auto_columns": null,
            "grid_auto_flow": null,
            "grid_auto_rows": null,
            "grid_column": null,
            "grid_gap": null,
            "grid_row": null,
            "grid_template_areas": null,
            "grid_template_columns": null,
            "grid_template_rows": null,
            "height": null,
            "justify_content": null,
            "justify_items": null,
            "left": null,
            "margin": null,
            "max_height": null,
            "max_width": null,
            "min_height": null,
            "min_width": null,
            "object_fit": null,
            "object_position": null,
            "order": null,
            "overflow": null,
            "overflow_x": null,
            "overflow_y": null,
            "padding": null,
            "right": null,
            "top": null,
            "visibility": null,
            "width": null
          }
        },
        "645d7452584247f69a0b389bcea1f5db": {
          "model_module": "@jupyter-widgets/base",
          "model_name": "LayoutModel",
          "model_module_version": "1.2.0",
          "state": {
            "_model_module": "@jupyter-widgets/base",
            "_model_module_version": "1.2.0",
            "_model_name": "LayoutModel",
            "_view_count": null,
            "_view_module": "@jupyter-widgets/base",
            "_view_module_version": "1.2.0",
            "_view_name": "LayoutView",
            "align_content": null,
            "align_items": null,
            "align_self": null,
            "border": null,
            "bottom": null,
            "display": null,
            "flex": null,
            "flex_flow": null,
            "grid_area": null,
            "grid_auto_columns": null,
            "grid_auto_flow": null,
            "grid_auto_rows": null,
            "grid_column": null,
            "grid_gap": null,
            "grid_row": null,
            "grid_template_areas": null,
            "grid_template_columns": null,
            "grid_template_rows": null,
            "height": null,
            "justify_content": null,
            "justify_items": null,
            "left": null,
            "margin": null,
            "max_height": null,
            "max_width": null,
            "min_height": null,
            "min_width": null,
            "object_fit": null,
            "object_position": null,
            "order": null,
            "overflow": null,
            "overflow_x": null,
            "overflow_y": null,
            "padding": null,
            "right": null,
            "top": null,
            "visibility": null,
            "width": null
          }
        },
        "f42d672429784db9adbbba841fee0261": {
          "model_module": "@jupyter-widgets/controls",
          "model_name": "DescriptionStyleModel",
          "model_module_version": "1.5.0",
          "state": {
            "_model_module": "@jupyter-widgets/controls",
            "_model_module_version": "1.5.0",
            "_model_name": "DescriptionStyleModel",
            "_view_count": null,
            "_view_module": "@jupyter-widgets/base",
            "_view_module_version": "1.2.0",
            "_view_name": "StyleView",
            "description_width": ""
          }
        },
        "9211f52c291d489fbfea0eeb06cfde37": {
          "model_module": "@jupyter-widgets/base",
          "model_name": "LayoutModel",
          "model_module_version": "1.2.0",
          "state": {
            "_model_module": "@jupyter-widgets/base",
            "_model_module_version": "1.2.0",
            "_model_name": "LayoutModel",
            "_view_count": null,
            "_view_module": "@jupyter-widgets/base",
            "_view_module_version": "1.2.0",
            "_view_name": "LayoutView",
            "align_content": null,
            "align_items": null,
            "align_self": null,
            "border": null,
            "bottom": null,
            "display": null,
            "flex": null,
            "flex_flow": null,
            "grid_area": null,
            "grid_auto_columns": null,
            "grid_auto_flow": null,
            "grid_auto_rows": null,
            "grid_column": null,
            "grid_gap": null,
            "grid_row": null,
            "grid_template_areas": null,
            "grid_template_columns": null,
            "grid_template_rows": null,
            "height": null,
            "justify_content": null,
            "justify_items": null,
            "left": null,
            "margin": null,
            "max_height": null,
            "max_width": null,
            "min_height": null,
            "min_width": null,
            "object_fit": null,
            "object_position": null,
            "order": null,
            "overflow": null,
            "overflow_x": null,
            "overflow_y": null,
            "padding": null,
            "right": null,
            "top": null,
            "visibility": null,
            "width": null
          }
        },
        "b3555c9a8ad946f0a70d200ac4661637": {
          "model_module": "@jupyter-widgets/controls",
          "model_name": "ProgressStyleModel",
          "model_module_version": "1.5.0",
          "state": {
            "_model_module": "@jupyter-widgets/controls",
            "_model_module_version": "1.5.0",
            "_model_name": "ProgressStyleModel",
            "_view_count": null,
            "_view_module": "@jupyter-widgets/base",
            "_view_module_version": "1.2.0",
            "_view_name": "StyleView",
            "bar_color": null,
            "description_width": ""
          }
        },
        "d8e09ce8ee63470fa61053da5c3ec783": {
          "model_module": "@jupyter-widgets/base",
          "model_name": "LayoutModel",
          "model_module_version": "1.2.0",
          "state": {
            "_model_module": "@jupyter-widgets/base",
            "_model_module_version": "1.2.0",
            "_model_name": "LayoutModel",
            "_view_count": null,
            "_view_module": "@jupyter-widgets/base",
            "_view_module_version": "1.2.0",
            "_view_name": "LayoutView",
            "align_content": null,
            "align_items": null,
            "align_self": null,
            "border": null,
            "bottom": null,
            "display": null,
            "flex": null,
            "flex_flow": null,
            "grid_area": null,
            "grid_auto_columns": null,
            "grid_auto_flow": null,
            "grid_auto_rows": null,
            "grid_column": null,
            "grid_gap": null,
            "grid_row": null,
            "grid_template_areas": null,
            "grid_template_columns": null,
            "grid_template_rows": null,
            "height": null,
            "justify_content": null,
            "justify_items": null,
            "left": null,
            "margin": null,
            "max_height": null,
            "max_width": null,
            "min_height": null,
            "min_width": null,
            "object_fit": null,
            "object_position": null,
            "order": null,
            "overflow": null,
            "overflow_x": null,
            "overflow_y": null,
            "padding": null,
            "right": null,
            "top": null,
            "visibility": null,
            "width": null
          }
        },
        "73077cff19374c678ffc9692af308549": {
          "model_module": "@jupyter-widgets/controls",
          "model_name": "DescriptionStyleModel",
          "model_module_version": "1.5.0",
          "state": {
            "_model_module": "@jupyter-widgets/controls",
            "_model_module_version": "1.5.0",
            "_model_name": "DescriptionStyleModel",
            "_view_count": null,
            "_view_module": "@jupyter-widgets/base",
            "_view_module_version": "1.2.0",
            "_view_name": "StyleView",
            "description_width": ""
          }
        }
      }
    },
    "accelerator": "GPU"
  },
  "cells": [
    {
      "cell_type": "code",
      "execution_count": 1,
      "metadata": {
        "colab": {
          "base_uri": "https://localhost:8080/"
        },
        "id": "IqXweLakI30J",
        "outputId": "e1a78ef8-978e-4f3d-809c-c2dfce1fcb0e"
      },
      "outputs": [
        {
          "output_type": "stream",
          "name": "stdout",
          "text": [
            "Requirement already satisfied: datasets in /usr/local/lib/python3.11/dist-packages (3.6.0)\n",
            "Requirement already satisfied: faiss-cpu==1.7.4 in /usr/local/lib/python3.11/dist-packages (1.7.4)\n",
            "Requirement already satisfied: chromadb==0.4.22 in /usr/local/lib/python3.11/dist-packages (0.4.22)\n",
            "Requirement already satisfied: sentence-transformers==2.3.1 in /usr/local/lib/python3.11/dist-packages (2.3.1)\n",
            "Requirement already satisfied: build>=1.0.3 in /usr/local/lib/python3.11/dist-packages (from chromadb==0.4.22) (1.2.2.post1)\n",
            "Requirement already satisfied: requests>=2.28 in /usr/local/lib/python3.11/dist-packages (from chromadb==0.4.22) (2.32.3)\n",
            "Requirement already satisfied: pydantic>=1.9 in /usr/local/lib/python3.11/dist-packages (from chromadb==0.4.22) (2.11.4)\n",
            "Requirement already satisfied: chroma-hnswlib==0.7.3 in /usr/local/lib/python3.11/dist-packages (from chromadb==0.4.22) (0.7.3)\n",
            "Requirement already satisfied: fastapi>=0.95.2 in /usr/local/lib/python3.11/dist-packages (from chromadb==0.4.22) (0.115.12)\n",
            "Requirement already satisfied: uvicorn>=0.18.3 in /usr/local/lib/python3.11/dist-packages (from uvicorn[standard]>=0.18.3->chromadb==0.4.22) (0.34.2)\n",
            "Requirement already satisfied: numpy>=1.22.5 in /usr/local/lib/python3.11/dist-packages (from chromadb==0.4.22) (1.26.4)\n",
            "Requirement already satisfied: posthog>=2.4.0 in /usr/local/lib/python3.11/dist-packages (from chromadb==0.4.22) (4.2.0)\n",
            "Requirement already satisfied: typing-extensions>=4.5.0 in /usr/local/lib/python3.11/dist-packages (from chromadb==0.4.22) (4.13.2)\n",
            "Requirement already satisfied: pulsar-client>=3.1.0 in /usr/local/lib/python3.11/dist-packages (from chromadb==0.4.22) (3.7.0)\n",
            "Requirement already satisfied: onnxruntime>=1.14.1 in /usr/local/lib/python3.11/dist-packages (from chromadb==0.4.22) (1.22.0)\n",
            "Requirement already satisfied: opentelemetry-api>=1.2.0 in /usr/local/lib/python3.11/dist-packages (from chromadb==0.4.22) (1.33.1)\n",
            "Requirement already satisfied: opentelemetry-exporter-otlp-proto-grpc>=1.2.0 in /usr/local/lib/python3.11/dist-packages (from chromadb==0.4.22) (1.33.1)\n",
            "Requirement already satisfied: opentelemetry-instrumentation-fastapi>=0.41b0 in /usr/local/lib/python3.11/dist-packages (from chromadb==0.4.22) (0.54b1)\n",
            "Requirement already satisfied: opentelemetry-sdk>=1.2.0 in /usr/local/lib/python3.11/dist-packages (from chromadb==0.4.22) (1.33.1)\n",
            "Requirement already satisfied: tokenizers>=0.13.2 in /usr/local/lib/python3.11/dist-packages (from chromadb==0.4.22) (0.21.1)\n",
            "Requirement already satisfied: pypika>=0.48.9 in /usr/local/lib/python3.11/dist-packages (from chromadb==0.4.22) (0.48.9)\n",
            "Requirement already satisfied: tqdm>=4.65.0 in /usr/local/lib/python3.11/dist-packages (from chromadb==0.4.22) (4.67.1)\n",
            "Requirement already satisfied: overrides>=7.3.1 in /usr/local/lib/python3.11/dist-packages (from chromadb==0.4.22) (7.7.0)\n",
            "Requirement already satisfied: importlib-resources in /usr/local/lib/python3.11/dist-packages (from chromadb==0.4.22) (6.5.2)\n",
            "Requirement already satisfied: grpcio>=1.58.0 in /usr/local/lib/python3.11/dist-packages (from chromadb==0.4.22) (1.71.0)\n",
            "Requirement already satisfied: bcrypt>=4.0.1 in /usr/local/lib/python3.11/dist-packages (from chromadb==0.4.22) (4.3.0)\n",
            "Requirement already satisfied: typer>=0.9.0 in /usr/local/lib/python3.11/dist-packages (from chromadb==0.4.22) (0.15.3)\n",
            "Requirement already satisfied: kubernetes>=28.1.0 in /usr/local/lib/python3.11/dist-packages (from chromadb==0.4.22) (32.0.1)\n",
            "Requirement already satisfied: tenacity>=8.2.3 in /usr/local/lib/python3.11/dist-packages (from chromadb==0.4.22) (9.1.2)\n",
            "Requirement already satisfied: PyYAML>=6.0.0 in /usr/local/lib/python3.11/dist-packages (from chromadb==0.4.22) (6.0.2)\n",
            "Requirement already satisfied: mmh3>=4.0.1 in /usr/local/lib/python3.11/dist-packages (from chromadb==0.4.22) (5.1.0)\n",
            "Requirement already satisfied: transformers<5.0.0,>=4.32.0 in /usr/local/lib/python3.11/dist-packages (from sentence-transformers==2.3.1) (4.52.2)\n",
            "Requirement already satisfied: torch>=1.11.0 in /usr/local/lib/python3.11/dist-packages (from sentence-transformers==2.3.1) (2.6.0+cu124)\n",
            "Requirement already satisfied: scikit-learn in /usr/local/lib/python3.11/dist-packages (from sentence-transformers==2.3.1) (1.6.1)\n",
            "Requirement already satisfied: scipy in /usr/local/lib/python3.11/dist-packages (from sentence-transformers==2.3.1) (1.15.3)\n",
            "Requirement already satisfied: nltk in /usr/local/lib/python3.11/dist-packages (from sentence-transformers==2.3.1) (3.9.1)\n",
            "Requirement already satisfied: sentencepiece in /usr/local/lib/python3.11/dist-packages (from sentence-transformers==2.3.1) (0.2.0)\n",
            "Requirement already satisfied: huggingface-hub>=0.15.1 in /usr/local/lib/python3.11/dist-packages (from sentence-transformers==2.3.1) (0.31.4)\n",
            "Requirement already satisfied: Pillow in /usr/local/lib/python3.11/dist-packages (from sentence-transformers==2.3.1) (11.2.1)\n",
            "Requirement already satisfied: filelock in /usr/local/lib/python3.11/dist-packages (from datasets) (3.18.0)\n",
            "Requirement already satisfied: pyarrow>=15.0.0 in /usr/local/lib/python3.11/dist-packages (from datasets) (18.1.0)\n",
            "Requirement already satisfied: dill<0.3.9,>=0.3.0 in /usr/local/lib/python3.11/dist-packages (from datasets) (0.3.7)\n",
            "Requirement already satisfied: pandas in /usr/local/lib/python3.11/dist-packages (from datasets) (2.2.2)\n",
            "Requirement already satisfied: xxhash in /usr/local/lib/python3.11/dist-packages (from datasets) (3.5.0)\n",
            "Requirement already satisfied: multiprocess<0.70.17 in /usr/local/lib/python3.11/dist-packages (from datasets) (0.70.15)\n",
            "Requirement already satisfied: fsspec<=2025.3.0,>=2023.1.0 in /usr/local/lib/python3.11/dist-packages (from fsspec[http]<=2025.3.0,>=2023.1.0->datasets) (2025.3.0)\n",
            "Requirement already satisfied: packaging in /usr/local/lib/python3.11/dist-packages (from datasets) (24.2)\n",
            "Requirement already satisfied: pyproject_hooks in /usr/local/lib/python3.11/dist-packages (from build>=1.0.3->chromadb==0.4.22) (1.2.0)\n",
            "Requirement already satisfied: starlette<0.47.0,>=0.40.0 in /usr/local/lib/python3.11/dist-packages (from fastapi>=0.95.2->chromadb==0.4.22) (0.46.2)\n",
            "Requirement already satisfied: aiohttp!=4.0.0a0,!=4.0.0a1 in /usr/local/lib/python3.11/dist-packages (from fsspec[http]<=2025.3.0,>=2023.1.0->datasets) (3.11.15)\n",
            "Requirement already satisfied: certifi>=14.05.14 in /usr/local/lib/python3.11/dist-packages (from kubernetes>=28.1.0->chromadb==0.4.22) (2025.4.26)\n",
            "Requirement already satisfied: six>=1.9.0 in /usr/local/lib/python3.11/dist-packages (from kubernetes>=28.1.0->chromadb==0.4.22) (1.17.0)\n",
            "Requirement already satisfied: python-dateutil>=2.5.3 in /usr/local/lib/python3.11/dist-packages (from kubernetes>=28.1.0->chromadb==0.4.22) (2.9.0.post0)\n",
            "Requirement already satisfied: google-auth>=1.0.1 in /usr/local/lib/python3.11/dist-packages (from kubernetes>=28.1.0->chromadb==0.4.22) (2.38.0)\n",
            "Requirement already satisfied: websocket-client!=0.40.0,!=0.41.*,!=0.42.*,>=0.32.0 in /usr/local/lib/python3.11/dist-packages (from kubernetes>=28.1.0->chromadb==0.4.22) (1.8.0)\n",
            "Requirement already satisfied: requests-oauthlib in /usr/local/lib/python3.11/dist-packages (from kubernetes>=28.1.0->chromadb==0.4.22) (2.0.0)\n",
            "Requirement already satisfied: oauthlib>=3.2.2 in /usr/local/lib/python3.11/dist-packages (from kubernetes>=28.1.0->chromadb==0.4.22) (3.2.2)\n",
            "Requirement already satisfied: urllib3>=1.24.2 in /usr/local/lib/python3.11/dist-packages (from kubernetes>=28.1.0->chromadb==0.4.22) (2.4.0)\n",
            "Requirement already satisfied: durationpy>=0.7 in /usr/local/lib/python3.11/dist-packages (from kubernetes>=28.1.0->chromadb==0.4.22) (0.10)\n",
            "Requirement already satisfied: coloredlogs in /usr/local/lib/python3.11/dist-packages (from onnxruntime>=1.14.1->chromadb==0.4.22) (15.0.1)\n",
            "Requirement already satisfied: flatbuffers in /usr/local/lib/python3.11/dist-packages (from onnxruntime>=1.14.1->chromadb==0.4.22) (25.2.10)\n",
            "Requirement already satisfied: protobuf in /usr/local/lib/python3.11/dist-packages (from onnxruntime>=1.14.1->chromadb==0.4.22) (5.29.4)\n",
            "Requirement already satisfied: sympy in /usr/local/lib/python3.11/dist-packages (from onnxruntime>=1.14.1->chromadb==0.4.22) (1.13.1)\n",
            "Requirement already satisfied: deprecated>=1.2.6 in /usr/local/lib/python3.11/dist-packages (from opentelemetry-api>=1.2.0->chromadb==0.4.22) (1.2.18)\n",
            "Requirement already satisfied: importlib-metadata<8.7.0,>=6.0 in /usr/local/lib/python3.11/dist-packages (from opentelemetry-api>=1.2.0->chromadb==0.4.22) (8.6.1)\n",
            "Requirement already satisfied: googleapis-common-protos~=1.52 in /usr/local/lib/python3.11/dist-packages (from opentelemetry-exporter-otlp-proto-grpc>=1.2.0->chromadb==0.4.22) (1.70.0)\n",
            "Requirement already satisfied: opentelemetry-exporter-otlp-proto-common==1.33.1 in /usr/local/lib/python3.11/dist-packages (from opentelemetry-exporter-otlp-proto-grpc>=1.2.0->chromadb==0.4.22) (1.33.1)\n",
            "Requirement already satisfied: opentelemetry-proto==1.33.1 in /usr/local/lib/python3.11/dist-packages (from opentelemetry-exporter-otlp-proto-grpc>=1.2.0->chromadb==0.4.22) (1.33.1)\n",
            "Requirement already satisfied: opentelemetry-instrumentation-asgi==0.54b1 in /usr/local/lib/python3.11/dist-packages (from opentelemetry-instrumentation-fastapi>=0.41b0->chromadb==0.4.22) (0.54b1)\n",
            "Requirement already satisfied: opentelemetry-instrumentation==0.54b1 in /usr/local/lib/python3.11/dist-packages (from opentelemetry-instrumentation-fastapi>=0.41b0->chromadb==0.4.22) (0.54b1)\n",
            "Requirement already satisfied: opentelemetry-semantic-conventions==0.54b1 in /usr/local/lib/python3.11/dist-packages (from opentelemetry-instrumentation-fastapi>=0.41b0->chromadb==0.4.22) (0.54b1)\n",
            "Requirement already satisfied: opentelemetry-util-http==0.54b1 in /usr/local/lib/python3.11/dist-packages (from opentelemetry-instrumentation-fastapi>=0.41b0->chromadb==0.4.22) (0.54b1)\n",
            "Requirement already satisfied: wrapt<2.0.0,>=1.0.0 in /usr/local/lib/python3.11/dist-packages (from opentelemetry-instrumentation==0.54b1->opentelemetry-instrumentation-fastapi>=0.41b0->chromadb==0.4.22) (1.17.2)\n",
            "Requirement already satisfied: asgiref~=3.0 in /usr/local/lib/python3.11/dist-packages (from opentelemetry-instrumentation-asgi==0.54b1->opentelemetry-instrumentation-fastapi>=0.41b0->chromadb==0.4.22) (3.8.1)\n",
            "Requirement already satisfied: backoff>=1.10.0 in /usr/local/lib/python3.11/dist-packages (from posthog>=2.4.0->chromadb==0.4.22) (2.2.1)\n",
            "Requirement already satisfied: distro>=1.5.0 in /usr/local/lib/python3.11/dist-packages (from posthog>=2.4.0->chromadb==0.4.22) (1.9.0)\n",
            "Requirement already satisfied: annotated-types>=0.6.0 in /usr/local/lib/python3.11/dist-packages (from pydantic>=1.9->chromadb==0.4.22) (0.7.0)\n",
            "Requirement already satisfied: pydantic-core==2.33.2 in /usr/local/lib/python3.11/dist-packages (from pydantic>=1.9->chromadb==0.4.22) (2.33.2)\n",
            "Requirement already satisfied: typing-inspection>=0.4.0 in /usr/local/lib/python3.11/dist-packages (from pydantic>=1.9->chromadb==0.4.22) (0.4.1)\n",
            "Requirement already satisfied: charset-normalizer<4,>=2 in /usr/local/lib/python3.11/dist-packages (from requests>=2.28->chromadb==0.4.22) (3.4.2)\n",
            "Requirement already satisfied: idna<4,>=2.5 in /usr/local/lib/python3.11/dist-packages (from requests>=2.28->chromadb==0.4.22) (3.10)\n",
            "Requirement already satisfied: networkx in /usr/local/lib/python3.11/dist-packages (from torch>=1.11.0->sentence-transformers==2.3.1) (3.4.2)\n",
            "Requirement already satisfied: jinja2 in /usr/local/lib/python3.11/dist-packages (from torch>=1.11.0->sentence-transformers==2.3.1) (3.1.6)\n",
            "Requirement already satisfied: nvidia-cuda-nvrtc-cu12==12.4.127 in /usr/local/lib/python3.11/dist-packages (from torch>=1.11.0->sentence-transformers==2.3.1) (12.4.127)\n",
            "Requirement already satisfied: nvidia-cuda-runtime-cu12==12.4.127 in /usr/local/lib/python3.11/dist-packages (from torch>=1.11.0->sentence-transformers==2.3.1) (12.4.127)\n",
            "Requirement already satisfied: nvidia-cuda-cupti-cu12==12.4.127 in /usr/local/lib/python3.11/dist-packages (from torch>=1.11.0->sentence-transformers==2.3.1) (12.4.127)\n",
            "Requirement already satisfied: nvidia-cudnn-cu12==9.1.0.70 in /usr/local/lib/python3.11/dist-packages (from torch>=1.11.0->sentence-transformers==2.3.1) (9.1.0.70)\n",
            "Requirement already satisfied: nvidia-cublas-cu12==12.4.5.8 in /usr/local/lib/python3.11/dist-packages (from torch>=1.11.0->sentence-transformers==2.3.1) (12.4.5.8)\n",
            "Requirement already satisfied: nvidia-cufft-cu12==11.2.1.3 in /usr/local/lib/python3.11/dist-packages (from torch>=1.11.0->sentence-transformers==2.3.1) (11.2.1.3)\n",
            "Requirement already satisfied: nvidia-curand-cu12==10.3.5.147 in /usr/local/lib/python3.11/dist-packages (from torch>=1.11.0->sentence-transformers==2.3.1) (10.3.5.147)\n",
            "Requirement already satisfied: nvidia-cusolver-cu12==11.6.1.9 in /usr/local/lib/python3.11/dist-packages (from torch>=1.11.0->sentence-transformers==2.3.1) (11.6.1.9)\n",
            "Requirement already satisfied: nvidia-cusparse-cu12==12.3.1.170 in /usr/local/lib/python3.11/dist-packages (from torch>=1.11.0->sentence-transformers==2.3.1) (12.3.1.170)\n",
            "Requirement already satisfied: nvidia-cusparselt-cu12==0.6.2 in /usr/local/lib/python3.11/dist-packages (from torch>=1.11.0->sentence-transformers==2.3.1) (0.6.2)\n",
            "Requirement already satisfied: nvidia-nccl-cu12==2.21.5 in /usr/local/lib/python3.11/dist-packages (from torch>=1.11.0->sentence-transformers==2.3.1) (2.21.5)\n",
            "Requirement already satisfied: nvidia-nvtx-cu12==12.4.127 in /usr/local/lib/python3.11/dist-packages (from torch>=1.11.0->sentence-transformers==2.3.1) (12.4.127)\n",
            "Requirement already satisfied: nvidia-nvjitlink-cu12==12.4.127 in /usr/local/lib/python3.11/dist-packages (from torch>=1.11.0->sentence-transformers==2.3.1) (12.4.127)\n",
            "Requirement already satisfied: triton==3.2.0 in /usr/local/lib/python3.11/dist-packages (from torch>=1.11.0->sentence-transformers==2.3.1) (3.2.0)\n",
            "Requirement already satisfied: mpmath<1.4,>=1.1.0 in /usr/local/lib/python3.11/dist-packages (from sympy->onnxruntime>=1.14.1->chromadb==0.4.22) (1.3.0)\n",
            "Requirement already satisfied: regex!=2019.12.17 in /usr/local/lib/python3.11/dist-packages (from transformers<5.0.0,>=4.32.0->sentence-transformers==2.3.1) (2024.11.6)\n",
            "Requirement already satisfied: safetensors>=0.4.3 in /usr/local/lib/python3.11/dist-packages (from transformers<5.0.0,>=4.32.0->sentence-transformers==2.3.1) (0.5.3)\n",
            "Requirement already satisfied: click>=8.0.0 in /usr/local/lib/python3.11/dist-packages (from typer>=0.9.0->chromadb==0.4.22) (8.2.1)\n",
            "Requirement already satisfied: shellingham>=1.3.0 in /usr/local/lib/python3.11/dist-packages (from typer>=0.9.0->chromadb==0.4.22) (1.5.4)\n",
            "Requirement already satisfied: rich>=10.11.0 in /usr/local/lib/python3.11/dist-packages (from typer>=0.9.0->chromadb==0.4.22) (13.9.4)\n",
            "Requirement already satisfied: h11>=0.8 in /usr/local/lib/python3.11/dist-packages (from uvicorn>=0.18.3->uvicorn[standard]>=0.18.3->chromadb==0.4.22) (0.16.0)\n",
            "Requirement already satisfied: httptools>=0.6.3 in /usr/local/lib/python3.11/dist-packages (from uvicorn[standard]>=0.18.3->chromadb==0.4.22) (0.6.4)\n",
            "Requirement already satisfied: python-dotenv>=0.13 in /usr/local/lib/python3.11/dist-packages (from uvicorn[standard]>=0.18.3->chromadb==0.4.22) (1.1.0)\n",
            "Requirement already satisfied: uvloop!=0.15.0,!=0.15.1,>=0.14.0 in /usr/local/lib/python3.11/dist-packages (from uvicorn[standard]>=0.18.3->chromadb==0.4.22) (0.21.0)\n",
            "Requirement already satisfied: watchfiles>=0.13 in /usr/local/lib/python3.11/dist-packages (from uvicorn[standard]>=0.18.3->chromadb==0.4.22) (1.0.5)\n",
            "Requirement already satisfied: websockets>=10.4 in /usr/local/lib/python3.11/dist-packages (from uvicorn[standard]>=0.18.3->chromadb==0.4.22) (15.0.1)\n",
            "Requirement already satisfied: joblib in /usr/local/lib/python3.11/dist-packages (from nltk->sentence-transformers==2.3.1) (1.5.0)\n",
            "Requirement already satisfied: pytz>=2020.1 in /usr/local/lib/python3.11/dist-packages (from pandas->datasets) (2025.2)\n",
            "Requirement already satisfied: tzdata>=2022.7 in /usr/local/lib/python3.11/dist-packages (from pandas->datasets) (2025.2)\n",
            "Requirement already satisfied: threadpoolctl>=3.1.0 in /usr/local/lib/python3.11/dist-packages (from scikit-learn->sentence-transformers==2.3.1) (3.6.0)\n",
            "Requirement already satisfied: aiohappyeyeballs>=2.3.0 in /usr/local/lib/python3.11/dist-packages (from aiohttp!=4.0.0a0,!=4.0.0a1->fsspec[http]<=2025.3.0,>=2023.1.0->datasets) (2.6.1)\n",
            "Requirement already satisfied: aiosignal>=1.1.2 in /usr/local/lib/python3.11/dist-packages (from aiohttp!=4.0.0a0,!=4.0.0a1->fsspec[http]<=2025.3.0,>=2023.1.0->datasets) (1.3.2)\n",
            "Requirement already satisfied: attrs>=17.3.0 in /usr/local/lib/python3.11/dist-packages (from aiohttp!=4.0.0a0,!=4.0.0a1->fsspec[http]<=2025.3.0,>=2023.1.0->datasets) (25.3.0)\n",
            "Requirement already satisfied: frozenlist>=1.1.1 in /usr/local/lib/python3.11/dist-packages (from aiohttp!=4.0.0a0,!=4.0.0a1->fsspec[http]<=2025.3.0,>=2023.1.0->datasets) (1.6.0)\n",
            "Requirement already satisfied: multidict<7.0,>=4.5 in /usr/local/lib/python3.11/dist-packages (from aiohttp!=4.0.0a0,!=4.0.0a1->fsspec[http]<=2025.3.0,>=2023.1.0->datasets) (6.4.4)\n",
            "Requirement already satisfied: propcache>=0.2.0 in /usr/local/lib/python3.11/dist-packages (from aiohttp!=4.0.0a0,!=4.0.0a1->fsspec[http]<=2025.3.0,>=2023.1.0->datasets) (0.3.1)\n",
            "Requirement already satisfied: yarl<2.0,>=1.17.0 in /usr/local/lib/python3.11/dist-packages (from aiohttp!=4.0.0a0,!=4.0.0a1->fsspec[http]<=2025.3.0,>=2023.1.0->datasets) (1.20.0)\n",
            "Requirement already satisfied: cachetools<6.0,>=2.0.0 in /usr/local/lib/python3.11/dist-packages (from google-auth>=1.0.1->kubernetes>=28.1.0->chromadb==0.4.22) (5.5.2)\n",
            "Requirement already satisfied: pyasn1-modules>=0.2.1 in /usr/local/lib/python3.11/dist-packages (from google-auth>=1.0.1->kubernetes>=28.1.0->chromadb==0.4.22) (0.4.2)\n",
            "Requirement already satisfied: rsa<5,>=3.1.4 in /usr/local/lib/python3.11/dist-packages (from google-auth>=1.0.1->kubernetes>=28.1.0->chromadb==0.4.22) (4.9.1)\n",
            "Requirement already satisfied: zipp>=3.20 in /usr/local/lib/python3.11/dist-packages (from importlib-metadata<8.7.0,>=6.0->opentelemetry-api>=1.2.0->chromadb==0.4.22) (3.21.0)\n",
            "Requirement already satisfied: markdown-it-py>=2.2.0 in /usr/local/lib/python3.11/dist-packages (from rich>=10.11.0->typer>=0.9.0->chromadb==0.4.22) (3.0.0)\n",
            "Requirement already satisfied: pygments<3.0.0,>=2.13.0 in /usr/local/lib/python3.11/dist-packages (from rich>=10.11.0->typer>=0.9.0->chromadb==0.4.22) (2.19.1)\n",
            "Requirement already satisfied: anyio<5,>=3.6.2 in /usr/local/lib/python3.11/dist-packages (from starlette<0.47.0,>=0.40.0->fastapi>=0.95.2->chromadb==0.4.22) (4.9.0)\n",
            "Requirement already satisfied: humanfriendly>=9.1 in /usr/local/lib/python3.11/dist-packages (from coloredlogs->onnxruntime>=1.14.1->chromadb==0.4.22) (10.0)\n",
            "Requirement already satisfied: MarkupSafe>=2.0 in /usr/local/lib/python3.11/dist-packages (from jinja2->torch>=1.11.0->sentence-transformers==2.3.1) (3.0.2)\n",
            "Requirement already satisfied: sniffio>=1.1 in /usr/local/lib/python3.11/dist-packages (from anyio<5,>=3.6.2->starlette<0.47.0,>=0.40.0->fastapi>=0.95.2->chromadb==0.4.22) (1.3.1)\n",
            "Requirement already satisfied: mdurl~=0.1 in /usr/local/lib/python3.11/dist-packages (from markdown-it-py>=2.2.0->rich>=10.11.0->typer>=0.9.0->chromadb==0.4.22) (0.1.2)\n",
            "Requirement already satisfied: pyasn1<0.7.0,>=0.6.1 in /usr/local/lib/python3.11/dist-packages (from pyasn1-modules>=0.2.1->google-auth>=1.0.1->kubernetes>=28.1.0->chromadb==0.4.22) (0.6.1)\n"
          ]
        }
      ],
      "source": [
        "!pip install datasets faiss-cpu==1.7.4 chromadb==0.4.22 sentence-transformers==2.3.1"
      ]
    },
    {
      "cell_type": "code",
      "source": [
        "!pip install -U datasets"
      ],
      "metadata": {
        "colab": {
          "base_uri": "https://localhost:8080/"
        },
        "id": "eXxME6CHW6ps",
        "outputId": "9c3768fd-4c51-4fb4-d729-fb02859c9cf1"
      },
      "execution_count": 2,
      "outputs": [
        {
          "output_type": "stream",
          "name": "stdout",
          "text": [
            "Requirement already satisfied: datasets in /usr/local/lib/python3.11/dist-packages (3.6.0)\n",
            "Requirement already satisfied: filelock in /usr/local/lib/python3.11/dist-packages (from datasets) (3.18.0)\n",
            "Requirement already satisfied: numpy>=1.17 in /usr/local/lib/python3.11/dist-packages (from datasets) (1.26.4)\n",
            "Requirement already satisfied: pyarrow>=15.0.0 in /usr/local/lib/python3.11/dist-packages (from datasets) (18.1.0)\n",
            "Requirement already satisfied: dill<0.3.9,>=0.3.0 in /usr/local/lib/python3.11/dist-packages (from datasets) (0.3.7)\n",
            "Requirement already satisfied: pandas in /usr/local/lib/python3.11/dist-packages (from datasets) (2.2.2)\n",
            "Requirement already satisfied: requests>=2.32.2 in /usr/local/lib/python3.11/dist-packages (from datasets) (2.32.3)\n",
            "Requirement already satisfied: tqdm>=4.66.3 in /usr/local/lib/python3.11/dist-packages (from datasets) (4.67.1)\n",
            "Requirement already satisfied: xxhash in /usr/local/lib/python3.11/dist-packages (from datasets) (3.5.0)\n",
            "Requirement already satisfied: multiprocess<0.70.17 in /usr/local/lib/python3.11/dist-packages (from datasets) (0.70.15)\n",
            "Requirement already satisfied: fsspec<=2025.3.0,>=2023.1.0 in /usr/local/lib/python3.11/dist-packages (from fsspec[http]<=2025.3.0,>=2023.1.0->datasets) (2025.3.0)\n",
            "Requirement already satisfied: huggingface-hub>=0.24.0 in /usr/local/lib/python3.11/dist-packages (from datasets) (0.31.4)\n",
            "Requirement already satisfied: packaging in /usr/local/lib/python3.11/dist-packages (from datasets) (24.2)\n",
            "Requirement already satisfied: pyyaml>=5.1 in /usr/local/lib/python3.11/dist-packages (from datasets) (6.0.2)\n",
            "Requirement already satisfied: aiohttp!=4.0.0a0,!=4.0.0a1 in /usr/local/lib/python3.11/dist-packages (from fsspec[http]<=2025.3.0,>=2023.1.0->datasets) (3.11.15)\n",
            "Requirement already satisfied: typing-extensions>=3.7.4.3 in /usr/local/lib/python3.11/dist-packages (from huggingface-hub>=0.24.0->datasets) (4.13.2)\n",
            "Requirement already satisfied: charset-normalizer<4,>=2 in /usr/local/lib/python3.11/dist-packages (from requests>=2.32.2->datasets) (3.4.2)\n",
            "Requirement already satisfied: idna<4,>=2.5 in /usr/local/lib/python3.11/dist-packages (from requests>=2.32.2->datasets) (3.10)\n",
            "Requirement already satisfied: urllib3<3,>=1.21.1 in /usr/local/lib/python3.11/dist-packages (from requests>=2.32.2->datasets) (2.4.0)\n",
            "Requirement already satisfied: certifi>=2017.4.17 in /usr/local/lib/python3.11/dist-packages (from requests>=2.32.2->datasets) (2025.4.26)\n",
            "Requirement already satisfied: python-dateutil>=2.8.2 in /usr/local/lib/python3.11/dist-packages (from pandas->datasets) (2.9.0.post0)\n",
            "Requirement already satisfied: pytz>=2020.1 in /usr/local/lib/python3.11/dist-packages (from pandas->datasets) (2025.2)\n",
            "Requirement already satisfied: tzdata>=2022.7 in /usr/local/lib/python3.11/dist-packages (from pandas->datasets) (2025.2)\n",
            "Requirement already satisfied: aiohappyeyeballs>=2.3.0 in /usr/local/lib/python3.11/dist-packages (from aiohttp!=4.0.0a0,!=4.0.0a1->fsspec[http]<=2025.3.0,>=2023.1.0->datasets) (2.6.1)\n",
            "Requirement already satisfied: aiosignal>=1.1.2 in /usr/local/lib/python3.11/dist-packages (from aiohttp!=4.0.0a0,!=4.0.0a1->fsspec[http]<=2025.3.0,>=2023.1.0->datasets) (1.3.2)\n",
            "Requirement already satisfied: attrs>=17.3.0 in /usr/local/lib/python3.11/dist-packages (from aiohttp!=4.0.0a0,!=4.0.0a1->fsspec[http]<=2025.3.0,>=2023.1.0->datasets) (25.3.0)\n",
            "Requirement already satisfied: frozenlist>=1.1.1 in /usr/local/lib/python3.11/dist-packages (from aiohttp!=4.0.0a0,!=4.0.0a1->fsspec[http]<=2025.3.0,>=2023.1.0->datasets) (1.6.0)\n",
            "Requirement already satisfied: multidict<7.0,>=4.5 in /usr/local/lib/python3.11/dist-packages (from aiohttp!=4.0.0a0,!=4.0.0a1->fsspec[http]<=2025.3.0,>=2023.1.0->datasets) (6.4.4)\n",
            "Requirement already satisfied: propcache>=0.2.0 in /usr/local/lib/python3.11/dist-packages (from aiohttp!=4.0.0a0,!=4.0.0a1->fsspec[http]<=2025.3.0,>=2023.1.0->datasets) (0.3.1)\n",
            "Requirement already satisfied: yarl<2.0,>=1.17.0 in /usr/local/lib/python3.11/dist-packages (from aiohttp!=4.0.0a0,!=4.0.0a1->fsspec[http]<=2025.3.0,>=2023.1.0->datasets) (1.20.0)\n",
            "Requirement already satisfied: six>=1.5 in /usr/local/lib/python3.11/dist-packages (from python-dateutil>=2.8.2->pandas->datasets) (1.17.0)\n"
          ]
        }
      ]
    },
    {
      "cell_type": "code",
      "source": [
        "from datasets import load_dataset\n",
        "\n",
        "dataset=load_dataset(\"sadeem-ai/arabic-qna\")"
      ],
      "metadata": {
        "colab": {
          "base_uri": "https://localhost:8080/"
        },
        "id": "aIxVnlGnJSU4",
        "outputId": "5c655b16-e616-49b9-fca6-879189dd4bc1"
      },
      "execution_count": 3,
      "outputs": [
        {
          "output_type": "stream",
          "name": "stderr",
          "text": [
            "/usr/local/lib/python3.11/dist-packages/huggingface_hub/utils/_auth.py:94: UserWarning: \n",
            "The secret `HF_TOKEN` does not exist in your Colab secrets.\n",
            "To authenticate with the Hugging Face Hub, create a token in your settings tab (https://huggingface.co/settings/tokens), set it as secret in your Google Colab and restart your session.\n",
            "You will be able to reuse this secret in all of your notebooks.\n",
            "Please note that authentication is recommended but still optional to access public models or datasets.\n",
            "  warnings.warn(\n"
          ]
        }
      ]
    },
    {
      "cell_type": "code",
      "source": [
        "dataset"
      ],
      "metadata": {
        "id": "tZ-SoI6Pv2nR",
        "colab": {
          "base_uri": "https://localhost:8080/"
        },
        "outputId": "22985413-8902-4200-a2a7-ed215d63fdc0"
      },
      "execution_count": 4,
      "outputs": [
        {
          "output_type": "execute_result",
          "data": {
            "text/plain": [
              "DatasetDict({\n",
              "    train: Dataset({\n",
              "        features: ['title', 'text', 'source', 'question', 'answer', 'has_answer'],\n",
              "        num_rows: 5000\n",
              "    })\n",
              "    test: Dataset({\n",
              "        features: ['title', 'text', 'source', 'question', 'answer', 'has_answer'],\n",
              "        num_rows: 1030\n",
              "    })\n",
              "})"
            ]
          },
          "metadata": {},
          "execution_count": 4
        }
      ]
    },
    {
      "cell_type": "code",
      "source": [
        "dataset=dataset.filter(lambda example: example['has_answer'] == True)"
      ],
      "metadata": {
        "id": "pK9SgXJsYB86"
      },
      "execution_count": 5,
      "outputs": []
    },
    {
      "cell_type": "code",
      "source": [
        "dataset"
      ],
      "metadata": {
        "colab": {
          "base_uri": "https://localhost:8080/"
        },
        "id": "SoFpO8O6ZDCI",
        "outputId": "eb27d71d-9099-4918-af43-17188b490830"
      },
      "execution_count": 6,
      "outputs": [
        {
          "output_type": "execute_result",
          "data": {
            "text/plain": [
              "DatasetDict({\n",
              "    train: Dataset({\n",
              "        features: ['title', 'text', 'source', 'question', 'answer', 'has_answer'],\n",
              "        num_rows: 4037\n",
              "    })\n",
              "    test: Dataset({\n",
              "        features: ['title', 'text', 'source', 'question', 'answer', 'has_answer'],\n",
              "        num_rows: 836\n",
              "    })\n",
              "})"
            ]
          },
          "metadata": {},
          "execution_count": 6
        }
      ]
    },
    {
      "cell_type": "code",
      "source": [
        "text=dataset['train']['text']\n",
        "text[0]"
      ],
      "metadata": {
        "colab": {
          "base_uri": "https://localhost:8080/",
          "height": 53
        },
        "id": "EgpiVQjfZESD",
        "outputId": "9c981de7-62da-4c9d-f592-f8605f0c481e"
      },
      "execution_count": 7,
      "outputs": [
        {
          "output_type": "execute_result",
          "data": {
            "text/plain": [
              "'اعتمادًا على المكان الذي ينتمي إليه الفرد، قد يكون تصورهم للوقت هو أن «الساعة تحكم اليوم» أو «سنصل إلى هناك عندما نصل إلى هناك». تحسين احتمالات النجاح في المجتمع العالمي يتطلب فهم الاختلافات الثقافية والتقاليد وأنماط الاتصال.'"
            ],
            "application/vnd.google.colaboratory.intrinsic+json": {
              "type": "string"
            }
          },
          "metadata": {},
          "execution_count": 7
        }
      ]
    },
    {
      "cell_type": "code",
      "source": [
        "metadata=[\n",
        "    {\n",
        "        \"source\":record['source'],\n",
        "        \"title\":record['title']\n",
        "    }\n",
        "\n",
        "          for record in dataset['train']\n",
        "\n",
        "]\n",
        "metadata[0]"
      ],
      "metadata": {
        "colab": {
          "base_uri": "https://localhost:8080/"
        },
        "id": "GYKXHFRgac7k",
        "outputId": "e4f14419-8ad9-4d74-a5ac-e6b1477ad2a7"
      },
      "execution_count": 8,
      "outputs": [
        {
          "output_type": "execute_result",
          "data": {
            "text/plain": [
              "{'source': 'https://ar.wikipedia.org/wiki?curid=8976220',\n",
              " 'title': 'تنظيم الوقت'}"
            ]
          },
          "metadata": {},
          "execution_count": 8
        }
      ]
    },
    {
      "cell_type": "code",
      "source": [
        "ids=[\n",
        "    str(i)\n",
        "    for i in range(len(text))\n",
        "]\n",
        "\n"
      ],
      "metadata": {
        "id": "g4YN6Qcqb4xm"
      },
      "execution_count": 9,
      "outputs": []
    },
    {
      "cell_type": "code",
      "source": [
        "from sentence_transformers import SentenceTransformer\n",
        "model_id=\"sentence-transformers/distiluse-base-multilingual-cased-v2\"\n",
        "device=\"cuda:0\"\n",
        "dim=512\n",
        "model=SentenceTransformer(model_id,device=device)"
      ],
      "metadata": {
        "id": "dCPIh8CddJKI"
      },
      "execution_count": 10,
      "outputs": []
    },
    {
      "cell_type": "code",
      "source": [
        "encode_doc=model.encode(text,show_progress_bar=True)"
      ],
      "metadata": {
        "colab": {
          "base_uri": "https://localhost:8080/",
          "height": 49,
          "referenced_widgets": [
            "556575b1eaa54a59b04338cfc9c89af4",
            "88ab2ad26246465e81d3b6227497feb8",
            "d8e6c01159f94d12a2dcedb1ab3cc8e3",
            "df28a73972f14e08b41188ee70f481e8",
            "241ca7be1da143c2ae9d9e8eea150b18",
            "645d7452584247f69a0b389bcea1f5db",
            "f42d672429784db9adbbba841fee0261",
            "9211f52c291d489fbfea0eeb06cfde37",
            "b3555c9a8ad946f0a70d200ac4661637",
            "d8e09ce8ee63470fa61053da5c3ec783",
            "73077cff19374c678ffc9692af308549"
          ]
        },
        "id": "UqZfuhIzlfww",
        "outputId": "59903a99-6270-4246-acd2-137df5f022d3"
      },
      "execution_count": 11,
      "outputs": [
        {
          "output_type": "display_data",
          "data": {
            "text/plain": [
              "Batches:   0%|          | 0/127 [00:00<?, ?it/s]"
            ],
            "application/vnd.jupyter.widget-view+json": {
              "version_major": 2,
              "version_minor": 0,
              "model_id": "556575b1eaa54a59b04338cfc9c89af4"
            }
          },
          "metadata": {}
        }
      ]
    },
    {
      "cell_type": "code",
      "source": [
        "encode_doc.shape"
      ],
      "metadata": {
        "colab": {
          "base_uri": "https://localhost:8080/"
        },
        "id": "Ie6A2qkVoEqQ",
        "outputId": "b4490170-a2aa-49bb-f2be-490e9bea172c"
      },
      "execution_count": 12,
      "outputs": [
        {
          "output_type": "execute_result",
          "data": {
            "text/plain": [
              "(4037, 512)"
            ]
          },
          "metadata": {},
          "execution_count": 12
        }
      ]
    },
    {
      "cell_type": "code",
      "source": [
        "len(text)"
      ],
      "metadata": {
        "colab": {
          "base_uri": "https://localhost:8080/"
        },
        "id": "YehIB75hp9XD",
        "outputId": "5816ed2c-58be-45c2-9062-4c7dec65ccdb"
      },
      "execution_count": 13,
      "outputs": [
        {
          "output_type": "execute_result",
          "data": {
            "text/plain": [
              "4037"
            ]
          },
          "metadata": {},
          "execution_count": 13
        }
      ]
    },
    {
      "cell_type": "code",
      "source": [
        "text[0],encode_doc[0]"
      ],
      "metadata": {
        "colab": {
          "base_uri": "https://localhost:8080/"
        },
        "id": "T1h8WPqmoTfA",
        "outputId": "8b8a8b0d-72a0-4dc0-d555-26812326de80"
      },
      "execution_count": 14,
      "outputs": [
        {
          "output_type": "execute_result",
          "data": {
            "text/plain": [
              "('اعتمادًا على المكان الذي ينتمي إليه الفرد، قد يكون تصورهم للوقت هو أن «الساعة تحكم اليوم» أو «سنصل إلى هناك عندما نصل إلى هناك». تحسين احتمالات النجاح في المجتمع العالمي يتطلب فهم الاختلافات الثقافية والتقاليد وأنماط الاتصال.',\n",
              " array([-2.22630110e-02,  1.18622780e-02, -5.17282784e-02, -3.84508967e-02,\n",
              "         1.07650623e-01, -4.56619374e-02,  5.49685694e-02,  9.17534716e-03,\n",
              "         3.52448076e-02,  6.96124462e-03,  3.18153016e-02,  2.13808799e-03,\n",
              "        -9.56622139e-03, -6.63584918e-02, -4.39523384e-02,  8.27048048e-02,\n",
              "         1.58673935e-02, -7.34318560e-03, -2.98200361e-02, -3.95070873e-02,\n",
              "        -1.50665967e-02,  2.46608946e-02,  7.54381856e-03, -2.70484686e-02,\n",
              "        -4.28158455e-02,  1.73906249e-03, -3.48085142e-03,  8.00499506e-03,\n",
              "         1.49304494e-02, -1.12245372e-03, -8.69526118e-02,  2.12956294e-02,\n",
              "         1.40109390e-03, -3.78256552e-02, -1.58398207e-02,  3.27752344e-02,\n",
              "         4.64597298e-03,  5.33918887e-02,  1.11280270e-02,  1.02619836e-02,\n",
              "        -2.87660547e-02,  2.88708415e-02, -4.60333414e-02,  7.53683411e-03,\n",
              "         7.68091083e-02,  2.09912285e-02, -4.97424975e-03,  7.19949082e-02,\n",
              "        -1.09545803e-02,  1.80033054e-02,  4.24810424e-02,  1.67778861e-02,\n",
              "        -2.02495651e-03, -4.59555909e-03,  1.44647323e-02,  4.48130071e-02,\n",
              "         4.33635265e-02, -5.25065325e-02,  1.25132715e-02, -1.63170192e-02,\n",
              "        -6.29970357e-02,  1.00183757e-02, -2.24119332e-02,  3.27842198e-02,\n",
              "        -3.02607100e-03,  9.98390652e-03, -1.38978017e-02, -1.56091237e-02,\n",
              "         4.61495221e-02, -2.25127470e-02, -1.92114059e-02,  1.35959862e-02,\n",
              "        -3.41534056e-02,  3.61581845e-03,  1.53557574e-02,  8.51931572e-02,\n",
              "        -2.75375154e-02,  8.91368762e-02,  5.63008636e-02,  7.17110783e-02,\n",
              "         3.42202969e-02,  6.37339009e-03,  4.30313498e-02,  2.60333065e-03,\n",
              "        -3.20126116e-02,  7.15225860e-02, -2.86029987e-02,  3.41087207e-02,\n",
              "         4.84838448e-02, -2.95175761e-02, -8.79207179e-02,  4.37788619e-03,\n",
              "         1.01446725e-01, -4.93519790e-02,  2.89375652e-02,  6.79270923e-02,\n",
              "         3.66969630e-02,  1.53094502e-02,  1.31453099e-02, -3.86824124e-02,\n",
              "        -4.56479304e-02,  5.24320342e-02, -5.42888865e-02,  1.63020305e-02,\n",
              "        -6.04888937e-03, -2.03040224e-02, -2.79390309e-02,  1.69196376e-03,\n",
              "         2.59996261e-02, -4.31318991e-02, -6.80605322e-02, -6.26624078e-02,\n",
              "         2.33623590e-02,  5.81572838e-02, -5.13106063e-02,  1.63058881e-02,\n",
              "        -2.27881651e-02, -5.25702834e-02,  2.90270825e-03, -2.78219320e-02,\n",
              "        -6.69004396e-02,  4.41915579e-02, -3.11985128e-02, -3.15252170e-02,\n",
              "         1.35870390e-02, -1.01579474e-02,  4.17981558e-02,  1.63167138e-02,\n",
              "         2.92345192e-02,  4.63129207e-02, -1.24765476e-02,  3.45406495e-02,\n",
              "         4.79326621e-02, -3.52403894e-02,  3.41813751e-02,  1.91993918e-02,\n",
              "         3.85868773e-02,  1.48613425e-02, -8.88697803e-03,  1.24282613e-02,\n",
              "         6.57941177e-02, -1.79736018e-02,  4.96966764e-02, -7.44591746e-03,\n",
              "         2.52317172e-04, -4.30147955e-03, -7.47617111e-02, -6.98092058e-02,\n",
              "         5.45839742e-02,  3.86973582e-02, -6.04536571e-03,  3.40808332e-02,\n",
              "         4.91603685e-04, -4.97510470e-03, -8.49976167e-02, -2.64796671e-02,\n",
              "        -7.49379694e-02,  4.74771634e-02,  1.12081692e-02,  2.08699573e-02,\n",
              "         4.00981046e-02,  9.40264482e-03, -4.78565544e-02, -1.61947757e-02,\n",
              "         1.02916006e-02, -4.15938795e-02,  5.06160147e-02,  2.27264967e-02,\n",
              "         4.56117652e-03, -5.22910431e-03, -4.63788165e-03, -2.62456276e-02,\n",
              "         1.41238393e-02, -3.86313014e-02,  3.59581318e-03,  2.90655773e-02,\n",
              "        -1.33728189e-03, -8.70600156e-03, -5.48358113e-02, -2.87720058e-02,\n",
              "        -7.30431974e-02,  4.35290253e-03,  1.11444304e-02, -4.60424237e-02,\n",
              "        -7.72813931e-02,  2.29115225e-02,  5.78516610e-02, -4.79069650e-02,\n",
              "         2.71073449e-02,  2.82197772e-03, -1.84160378e-02,  4.20020260e-02,\n",
              "        -1.38664269e-03,  2.84227375e-02, -2.21029129e-02, -3.21594463e-03,\n",
              "        -2.09109224e-02,  1.31119732e-02, -2.07403116e-03, -3.06302495e-02,\n",
              "         1.94595866e-02,  2.99924444e-02,  1.50539854e-03,  6.57728091e-02,\n",
              "         2.01104991e-02,  8.92561749e-02, -8.44804756e-03,  5.36273122e-02,\n",
              "        -3.58364470e-02, -6.06371090e-03,  1.11502921e-02, -9.11888015e-03,\n",
              "        -2.84706596e-02, -2.23016404e-02,  2.36371327e-02,  7.29858270e-03,\n",
              "        -4.91308309e-02, -2.67176088e-02, -1.12704691e-02, -2.94547789e-02,\n",
              "         3.72592472e-02,  3.37590910e-02, -8.96575861e-03, -3.75614613e-02,\n",
              "        -1.43587478e-02, -2.17413157e-02, -1.13463895e-02,  8.20463151e-02,\n",
              "        -9.10233147e-03,  2.05059107e-02, -2.13216785e-02,  1.85217708e-02,\n",
              "         1.08228186e-02, -1.06291384e-01,  4.01582569e-03,  3.68236639e-02,\n",
              "         3.65862474e-02, -8.65920261e-03,  3.72805968e-02,  3.54080535e-02,\n",
              "        -5.17951250e-02, -2.93819383e-02,  3.08351070e-02,  1.61453895e-02,\n",
              "         2.86417883e-02,  3.07473708e-02, -4.19604965e-02,  4.95220870e-02,\n",
              "         7.84932226e-02, -1.34021009e-03, -3.68981138e-02, -5.05172014e-02,\n",
              "        -4.95672747e-02, -2.59056035e-02,  3.04458924e-02,  6.64879382e-02,\n",
              "         3.73350084e-02,  5.55205625e-03,  2.34196782e-02,  1.59681160e-02,\n",
              "         4.11166325e-02, -2.65183970e-02, -1.25104105e-02, -1.90651082e-02,\n",
              "        -2.69616377e-02,  1.04658091e-02,  3.44236381e-02,  9.48346481e-02,\n",
              "        -1.10860225e-02,  2.92094704e-02,  1.16576534e-02,  4.41110544e-02,\n",
              "        -1.23257926e-02,  3.88067141e-02,  4.67167534e-02, -3.91844567e-03,\n",
              "         3.04688644e-02,  5.14536314e-02,  1.32123092e-02, -7.22506791e-02,\n",
              "        -1.12024946e-02, -1.10717872e-02,  1.14398748e-02,  1.11582363e-02,\n",
              "        -4.04795147e-02, -1.79865845e-02,  7.11824279e-03, -1.06004765e-02,\n",
              "         2.39176583e-02,  2.20955443e-02,  2.02637538e-02, -8.74302816e-03,\n",
              "         8.67831036e-02, -1.83526729e-03, -3.48559394e-02,  3.56473103e-02,\n",
              "        -1.41686331e-02,  1.83100048e-02,  2.96293925e-02,  4.20126058e-02,\n",
              "        -8.82811565e-03, -1.67978853e-02,  7.26811066e-02,  4.17098105e-02,\n",
              "        -1.75942499e-02,  3.00590955e-02,  6.17136108e-03, -3.46290283e-02,\n",
              "        -3.90923098e-02, -4.24646027e-02,  1.20219709e-02, -6.00406975e-02,\n",
              "         2.48192414e-03,  8.68743882e-02, -2.63651423e-02,  2.47450434e-02,\n",
              "        -7.23766070e-03,  3.09541821e-02, -7.56535307e-02, -8.75177830e-02,\n",
              "         1.54736033e-02, -1.38618452e-02,  1.19000452e-03,  3.84856537e-02,\n",
              "         6.12833984e-02, -5.82328532e-03,  4.45121937e-02, -1.71256065e-03,\n",
              "        -2.57794536e-03, -1.23221073e-02,  8.84787515e-02,  2.48668417e-02,\n",
              "         6.89857900e-02,  2.36726645e-02,  7.89359864e-03, -6.13037236e-02,\n",
              "        -6.46013021e-02,  6.09714873e-02, -3.39437202e-02,  1.25514008e-02,\n",
              "         1.10099334e-02, -1.18289264e-02, -5.71546033e-02,  6.73118457e-02,\n",
              "         4.75049019e-02, -6.52616248e-02,  2.06704438e-02,  2.42884960e-02,\n",
              "        -2.35449504e-02, -4.11548391e-02, -3.00686043e-02,  2.77132224e-02,\n",
              "        -5.77749461e-02,  7.47055039e-02,  3.59925651e-03,  9.45347846e-02,\n",
              "         1.13284588e-02,  6.21779785e-02, -1.34616336e-02, -3.76041830e-02,\n",
              "         3.54163051e-02,  4.00989735e-03,  1.57505702e-02, -1.31554930e-02,\n",
              "        -5.39531447e-02, -5.63706234e-02, -9.48864780e-03,  9.96437669e-03,\n",
              "        -5.20349713e-03, -1.15630310e-02, -2.06115879e-02,  2.92867348e-02,\n",
              "        -3.52237411e-02, -1.19639677e-03,  5.36411926e-02,  3.75553221e-03,\n",
              "        -9.07883421e-03, -7.08150584e-03, -2.52756719e-02,  1.05052041e-02,\n",
              "        -7.37108849e-03,  1.01965861e-02, -2.81400383e-02,  3.53232697e-02,\n",
              "         3.02556083e-02,  5.79541968e-03,  4.49947901e-02, -7.26610841e-03,\n",
              "         2.39817612e-02,  5.04014222e-03, -1.30794896e-02,  1.07815176e-01,\n",
              "        -1.94739774e-02, -5.03158139e-04, -1.33356703e-02,  2.56118365e-05,\n",
              "         1.98950414e-02,  7.71972910e-03, -3.24884579e-02,  4.02752385e-02,\n",
              "         3.69156711e-02, -3.18935774e-02, -1.28055653e-02, -2.37931535e-02,\n",
              "        -1.17431190e-02, -3.52566876e-02,  8.46289331e-04,  2.41320999e-03,\n",
              "         5.30759199e-03, -8.31074081e-03, -1.28652938e-02, -7.07797706e-02,\n",
              "        -8.42343718e-02, -2.41517313e-02, -4.97128777e-02,  4.80043665e-02,\n",
              "         4.51728292e-02, -1.64962728e-02,  5.18767647e-02,  5.24170250e-02,\n",
              "        -2.85853595e-02, -8.73481259e-02,  1.19934641e-02, -1.46884434e-02,\n",
              "        -3.19976993e-02, -4.22371365e-02, -9.25131422e-03,  6.23884937e-03,\n",
              "        -3.79849449e-02, -3.12167685e-02,  5.33316843e-02, -2.60773115e-02,\n",
              "         2.29873210e-02, -1.97668336e-02, -2.09402423e-02,  4.79234904e-02,\n",
              "         1.32466359e-02, -5.41364728e-03,  3.28746885e-02, -2.47609038e-02,\n",
              "        -2.11208556e-02,  7.15165399e-03,  1.45022813e-02, -4.07817438e-02,\n",
              "         5.19640604e-03,  3.79432254e-02, -3.54306065e-02,  1.26119033e-02,\n",
              "         6.38220310e-02, -5.53674363e-02, -2.47240234e-02, -3.82129988e-03,\n",
              "        -4.28987853e-02,  4.75097410e-02, -8.66423547e-02,  9.83554521e-04,\n",
              "        -3.02720461e-02,  5.71341887e-02,  1.06165446e-01, -3.99526395e-02,\n",
              "        -3.59249227e-02, -2.74556261e-02,  1.01202903e-02, -2.99530849e-02,\n",
              "        -7.58550987e-02, -5.29249758e-03, -1.70530900e-02, -1.82350259e-02,\n",
              "        -2.29559224e-02, -8.44386443e-02,  2.05776449e-02, -1.97002366e-02,\n",
              "        -8.80136248e-03, -2.51973309e-02,  2.80928947e-02, -3.21263447e-02,\n",
              "         2.15264671e-02, -1.46537935e-02,  3.09127029e-02, -1.33075286e-02,\n",
              "        -1.96413696e-02,  6.50906982e-03, -1.23687787e-02,  3.57364508e-04,\n",
              "        -1.29599832e-02, -6.28603017e-03, -2.18710657e-02,  2.36137118e-02,\n",
              "        -4.63950001e-02, -1.11943632e-01,  3.00450251e-02, -2.55570691e-02,\n",
              "         1.86728071e-02, -1.37579357e-02, -5.57206422e-02,  2.20593568e-02,\n",
              "        -1.21557787e-02, -5.37484773e-02,  7.14720786e-02,  4.96275946e-02,\n",
              "         2.38474347e-02, -3.15136686e-02, -5.15888147e-02,  4.23541851e-03,\n",
              "        -4.75722104e-02, -2.25245170e-02,  4.05207165e-02,  2.03481428e-02,\n",
              "         3.70778069e-02, -3.35337594e-02, -5.09580411e-02, -8.41590855e-03],\n",
              "       dtype=float32))"
            ]
          },
          "metadata": {},
          "execution_count": 14
        }
      ]
    },
    {
      "cell_type": "code",
      "source": [
        "!pip install numpy==1.26.4 --force-reinstall"
      ],
      "metadata": {
        "colab": {
          "base_uri": "https://localhost:8080/"
        },
        "id": "HgKQ_thPsRqJ",
        "outputId": "4f4cd819-4f4f-48d6-c8f5-6d66727b3fc2"
      },
      "execution_count": 15,
      "outputs": [
        {
          "output_type": "stream",
          "name": "stdout",
          "text": [
            "Collecting numpy==1.26.4\n",
            "  Using cached numpy-1.26.4-cp311-cp311-manylinux_2_17_x86_64.manylinux2014_x86_64.whl.metadata (61 kB)\n",
            "Using cached numpy-1.26.4-cp311-cp311-manylinux_2_17_x86_64.manylinux2014_x86_64.whl (18.3 MB)\n",
            "Installing collected packages: numpy\n",
            "  Attempting uninstall: numpy\n",
            "    Found existing installation: numpy 1.26.4\n",
            "    Uninstalling numpy-1.26.4:\n",
            "      Successfully uninstalled numpy-1.26.4\n",
            "\u001b[31mERROR: pip's dependency resolver does not currently take into account all the packages that are installed. This behaviour is the source of the following dependency conflicts.\n",
            "thinc 8.3.6 requires numpy<3.0.0,>=2.0.0, but you have numpy 1.26.4 which is incompatible.\u001b[0m\u001b[31m\n",
            "\u001b[0mSuccessfully installed numpy-1.26.4\n"
          ]
        }
      ]
    },
    {
      "cell_type": "code",
      "source": [
        "import chromadb\n",
        "\n",
        "chroma_client = chromadb.PersistentClient(path=r\"D:\\chroma-ar-docs\")"
      ],
      "metadata": {
        "id": "9zg6aDfaohvB"
      },
      "execution_count": 16,
      "outputs": []
    },
    {
      "cell_type": "code",
      "source": [
        "collection=chroma_client.create_collection(\n",
        "    name='Documnts',\n",
        "    metadata={\"hnsw:space\":\"cosine\"}\n",
        "\n",
        ")"
      ],
      "metadata": {
        "id": "DIsRKJjKr3Ro"
      },
      "execution_count": 17,
      "outputs": []
    },
    {
      "cell_type": "code",
      "source": [
        "collection.add(\n",
        "    documents=text,\n",
        "    embeddings=encode_doc,\n",
        "    metadatas=metadata,\n",
        "    ids=ids\n",
        "\n",
        ")"
      ],
      "metadata": {
        "id": "E7C_Uf-mvspR"
      },
      "execution_count": 20,
      "outputs": []
    },
    {
      "cell_type": "code",
      "source": [
        "question='ماذا كانت ترغب إسبانيا في استعادته في عام 1814؟'\n",
        "question_embd=model.encode(question)\n",
        "results=collection.query(\n",
        "    query_embeddings=question_embd.tolist(),\n",
        "    n_results=3\n",
        "\n",
        ")\n",
        "results"
      ],
      "metadata": {
        "colab": {
          "base_uri": "https://localhost:8080/"
        },
        "id": "vGBuD5HqxE6k",
        "outputId": "f5933ca6-34e7-4e70-d7bb-a3dbdc163fd8"
      },
      "execution_count": 22,
      "outputs": [
        {
          "output_type": "execute_result",
          "data": {
            "text/plain": [
              "{'ids': [['139', '2752', '3178']],\n",
              " 'distances': [[0.5236292481422424, 0.5821330547332764, 0.5821330547332764]],\n",
              " 'metadatas': [[{'source': 'https://ar.wikipedia.org/wiki?curid=8393962',\n",
              "    'title': 'إعلان الاستقلال الأرجنتيني'},\n",
              "   {'source': 'https://ar.wikipedia.org/wiki?curid=3895', 'title': 'إسبانيا'},\n",
              "   {'source': 'https://ar.wikipedia.org/wiki?curid=3895',\n",
              "    'title': 'إسبانيا'}]],\n",
              " 'embeddings': None,\n",
              " 'documents': [['عندما استأنفت الملكية الإسبانية وظائفها في عام 1814، كانت إسبانيا مصممة على استعادة السيطرة على مستعمراتها في الأمريكتين. وعلاوة على ذلك، انتصر الملكيون من بيرو في معارك سيب سيب و واكي وفيلكابوجيو وأيوهوما في بيرو العليا، وهددوا المقاطعات المتحدة بشكل خطير من الشمال.',\n",
              "   'غابت اليهودية من الناحية العملية عن إسبانيا منذ عام 1492 وحتى القرن التاسع عشر عندما تم السماح مرة أخرى لليهود بدخول البلاد. حالياً هناك حوالي 62,000 يهودي في إسبانيا أو 0,14% من مجموع السكان. كان معظم الوافدين في القرن الماضي في حين أن بعضهم من نسل اليهود الذين سكنوا إسبانيا سابقاً. يعتقد أن ما يقرب من 80,000 من اليهود عاشوا في إسبانيا عشية محاكم التفتيش الإسبانية. يمنح حالياً اليهود السفارديم المنشأ وضعاً مفضلاً للحصول على الجنسية الإسبانية.',\n",
              "   'غابت اليهودية من الناحية العملية عن إسبانيا منذ عام 1492 وحتى القرن التاسع عشر عندما تم السماح مرة أخرى لليهود بدخول البلاد. حالياً هناك حوالي 62,000 يهودي في إسبانيا أو 0,14% من مجموع السكان. كان معظم الوافدين في القرن الماضي في حين أن بعضهم من نسل اليهود الذين سكنوا إسبانيا سابقاً. يعتقد أن ما يقرب من 80,000 من اليهود عاشوا في إسبانيا عشية محاكم التفتيش الإسبانية. يمنح حالياً اليهود السفارديم المنشأ وضعاً مفضلاً للحصول على الجنسية الإسبانية.']],\n",
              " 'uris': None,\n",
              " 'data': None}"
            ]
          },
          "metadata": {},
          "execution_count": 22
        }
      ]
    },
    {
      "cell_type": "code",
      "source": [
        "import faiss\n",
        "import numpy as np\n",
        "from copy import deepcopy"
      ],
      "metadata": {
        "id": "608lpd0V1NjF"
      },
      "execution_count": 24,
      "outputs": []
    },
    {
      "cell_type": "code",
      "source": [
        "norm_encode_docs=deepcopy(encode_doc)\n",
        "faiss.normalize_L2(norm_encode_docs)"
      ],
      "metadata": {
        "id": "8vNV-9ng38wg"
      },
      "execution_count": 25,
      "outputs": []
    },
    {
      "cell_type": "code",
      "source": [
        "faiss_index=faiss.IndexIDMap(faiss.IndexFlatIP(dim))\n",
        "faiss_index.add_with_ids(norm_encode_docs,ids)"
      ],
      "metadata": {
        "id": "073pfJMv5F6m"
      },
      "execution_count": 26,
      "outputs": []
    },
    {
      "cell_type": "code",
      "source": [
        "question1='ماذا كانت ترغب إسبانيا في استعادته في عام 1814؟'\n",
        "question_embd1=model.encode([question1])\n",
        "faiss.normalize_L2(question_embd1)\n",
        "result=faiss_index.search(question_embd1,3)\n",
        "result"
      ],
      "metadata": {
        "colab": {
          "base_uri": "https://localhost:8080/"
        },
        "id": "y0pyzvtW7lUi",
        "outputId": "d18b5198-3b06-457f-b12d-7db3ee10cee3"
      },
      "execution_count": 27,
      "outputs": [
        {
          "output_type": "execute_result",
          "data": {
            "text/plain": [
              "(array([[0.4763705, 0.4178667, 0.4178667]], dtype=float32),\n",
              " array([[ 139, 3178, 2752]]))"
            ]
          },
          "metadata": {},
          "execution_count": 27
        }
      ]
    },
    {
      "cell_type": "code",
      "source": [
        "text[139]"
      ],
      "metadata": {
        "colab": {
          "base_uri": "https://localhost:8080/",
          "height": 53
        },
        "id": "3Zetbk7j8z-x",
        "outputId": "72dd22c9-b8fd-49bc-943d-7db718e14287"
      },
      "execution_count": 30,
      "outputs": [
        {
          "output_type": "execute_result",
          "data": {
            "text/plain": [
              "'عندما استأنفت الملكية الإسبانية وظائفها في عام 1814، كانت إسبانيا مصممة على استعادة السيطرة على مستعمراتها في الأمريكتين. وعلاوة على ذلك، انتصر الملكيون من بيرو في معارك سيب سيب و واكي وفيلكابوجيو وأيوهوما في بيرو العليا، وهددوا المقاطعات المتحدة بشكل خطير من الشمال.'"
            ],
            "application/vnd.google.colaboratory.intrinsic+json": {
              "type": "string"
            }
          },
          "metadata": {},
          "execution_count": 30
        }
      ]
    },
    {
      "cell_type": "code",
      "source": [
        "import pickle\n",
        "\n",
        "with open(\"./Faiss_arabic_document/index.pickle\",\"wb\") as handle:\n",
        "  pickle.dump(faiss_index,handle,protocol=pickle.HIGHEST_PROTOCOL)\n",
        "\n",
        "with open(\"./Faiss_arabic_document/data.pickle\",\"wb\") as handle:\n",
        "  pickle.dump({\n",
        "\n",
        "          \"text\":text,\n",
        "          \"ids\":ids,\n",
        "          \"metadata\":metadata\n",
        "      },handle,protocol=pickle.HIGHEST_PROTOCOL)\n",
        ""
      ],
      "metadata": {
        "id": "FQffWegQ9HV3"
      },
      "execution_count": 35,
      "outputs": []
    },
    {
      "cell_type": "code",
      "source": [
        "with open(\"./Faiss_arabic_document/index.pickle\",\"rb\") as handle:\n",
        "  loaded_faiss_data=pickle.load(handle)\n",
        "\n",
        "with open(\"./Faiss_arabic_document/data.pickle\",\"rb\") as handle:\n",
        "  loaded_data=pickle.load(handle)"
      ],
      "metadata": {
        "id": "3KbV6sC__jJD"
      },
      "execution_count": 36,
      "outputs": []
    },
    {
      "cell_type": "code",
      "source": [],
      "metadata": {
        "id": "QSorDrwlAf80"
      },
      "execution_count": null,
      "outputs": []
    }
  ]
}